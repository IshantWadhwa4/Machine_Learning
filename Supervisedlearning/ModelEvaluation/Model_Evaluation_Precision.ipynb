{
  "nbformat": 4,
  "nbformat_minor": 0,
  "metadata": {
    "colab": {
      "name": "Model_Evaluation-Precision.ipynb",
      "provenance": [],
      "authorship_tag": "ABX9TyMHtIioCCfPlZ0zv6l21E8u",
      "include_colab_link": true
    },
    "kernelspec": {
      "name": "python3",
      "display_name": "Python 3"
    }
  },
  "cells": [
    {
      "cell_type": "markdown",
      "metadata": {
        "id": "view-in-github",
        "colab_type": "text"
      },
      "source": [
        "<a href=\"https://colab.research.google.com/github/IshantWadhwa4/Machine_Learning/blob/master/Supervisedlearning/ModelEvaluation/Model_Evaluation_Precision.ipynb\" target=\"_parent\"><img src=\"https://colab.research.google.com/assets/colab-badge.svg\" alt=\"Open In Colab\"/></a>"
      ]
    },
    {
      "cell_type": "markdown",
      "metadata": {
        "id": "Q_Y3bm7p1q1n",
        "colab_type": "text"
      },
      "source": [
        "#Model_Evaluation-Precision"
      ]
    },
    {
      "cell_type": "markdown",
      "metadata": {
        "id": "6VeogLmX2klz",
        "colab_type": "text"
      },
      "source": [
        "### Data Info\n",
        "\n",
        "Given the dataset containing personal details of citizens, make a model to predict whether people will commit crime in future or not using random forest algorithm. Evaluate the model using possible model evaluation techniques. "
      ]
    },
    {
      "cell_type": "markdown",
      "metadata": {
        "id": "DyIw3RVEBJqk",
        "colab_type": "text"
      },
      "source": [
        "## Model Evaluation\n",
        "\n",
        "\n",
        "\n",
        "\n",
        "We will use multiple algo and see how they can be implemented on data and than evaluate. On Classification"
      ]
    },
    {
      "cell_type": "markdown",
      "metadata": {
        "id": "aingJDN02JZr",
        "colab_type": "text"
      },
      "source": [
        "## Step 1: Get data"
      ]
    },
    {
      "cell_type": "code",
      "metadata": {
        "id": "WVEBCsAt1sln",
        "colab_type": "code",
        "colab": {}
      },
      "source": [
        "import pandas as pd"
      ],
      "execution_count": 0,
      "outputs": []
    },
    {
      "cell_type": "code",
      "metadata": {
        "id": "JlWw-pNv2Q3u",
        "colab_type": "code",
        "colab": {}
      },
      "source": [
        "data = pd.read_csv('https://raw.githubusercontent.com/st186/Predicting-Criminals/master/criminal_train.csv')"
      ],
      "execution_count": 0,
      "outputs": []
    },
    {
      "cell_type": "code",
      "metadata": {
        "id": "FnHE_cmY2p1P",
        "colab_type": "code",
        "colab": {
          "base_uri": "https://localhost:8080/",
          "height": 1000
        },
        "outputId": "e4e29812-1960-4970-f0e6-637196cf4d1e"
      },
      "source": [
        "data.info()"
      ],
      "execution_count": 26,
      "outputs": [
        {
          "output_type": "stream",
          "text": [
            "<class 'pandas.core.frame.DataFrame'>\n",
            "RangeIndex: 45718 entries, 0 to 45717\n",
            "Data columns (total 72 columns):\n",
            "PERID        45718 non-null int64\n",
            "IFATHER      45718 non-null int64\n",
            "NRCH17_2     45718 non-null int64\n",
            "IRHHSIZ2     45718 non-null int64\n",
            "IIHHSIZ2     45718 non-null int64\n",
            "IRKI17_2     45718 non-null int64\n",
            "IIKI17_2     45718 non-null int64\n",
            "IRHH65_2     45718 non-null int64\n",
            "IIHH65_2     45718 non-null int64\n",
            "PRXRETRY     45718 non-null int64\n",
            "PRXYDATA     45718 non-null int64\n",
            "MEDICARE     45718 non-null int64\n",
            "CAIDCHIP     45718 non-null int64\n",
            "CHAMPUS      45718 non-null int64\n",
            "PRVHLTIN     45718 non-null int64\n",
            "GRPHLTIN     45718 non-null int64\n",
            "HLTINNOS     45718 non-null int64\n",
            "HLCNOTYR     45718 non-null int64\n",
            "HLCNOTMO     45718 non-null int64\n",
            "HLCLAST      45718 non-null int64\n",
            "HLLOSRSN     45718 non-null int64\n",
            "HLNVCOST     45718 non-null int64\n",
            "HLNVOFFR     45718 non-null int64\n",
            "HLNVREF      45718 non-null int64\n",
            "HLNVNEED     45718 non-null int64\n",
            "HLNVSOR      45718 non-null int64\n",
            "IRMCDCHP     45718 non-null int64\n",
            "IIMCDCHP     45718 non-null int64\n",
            "IRMEDICR     45718 non-null int64\n",
            "IIMEDICR     45718 non-null int64\n",
            "IRCHMPUS     45718 non-null int64\n",
            "IICHMPUS     45718 non-null int64\n",
            "IRPRVHLT     45718 non-null int64\n",
            "IIPRVHLT     45718 non-null int64\n",
            "IROTHHLT     45718 non-null int64\n",
            "IIOTHHLT     45718 non-null int64\n",
            "HLCALLFG     45718 non-null int64\n",
            "HLCALL99     45718 non-null int64\n",
            "ANYHLTI2     45718 non-null int64\n",
            "IRINSUR4     45718 non-null int64\n",
            "IIINSUR4     45718 non-null int64\n",
            "OTHINS       45718 non-null int64\n",
            "CELLNOTCL    45718 non-null int64\n",
            "CELLWRKNG    45718 non-null int64\n",
            "IRFAMSOC     45718 non-null int64\n",
            "IIFAMSOC     45718 non-null int64\n",
            "IRFAMSSI     45718 non-null int64\n",
            "IIFAMSSI     45718 non-null int64\n",
            "IRFSTAMP     45718 non-null int64\n",
            "IIFSTAMP     45718 non-null int64\n",
            "IRFAMPMT     45718 non-null int64\n",
            "IIFAMPMT     45718 non-null int64\n",
            "IRFAMSVC     45718 non-null int64\n",
            "IIFAMSVC     45718 non-null int64\n",
            "IRWELMOS     45718 non-null int64\n",
            "IIWELMOS     45718 non-null int64\n",
            "IRPINC3      45718 non-null int64\n",
            "IRFAMIN3     45718 non-null int64\n",
            "IIPINC3      45718 non-null int64\n",
            "IIFAMIN3     45718 non-null int64\n",
            "GOVTPROG     45718 non-null int64\n",
            "POVERTY3     45718 non-null int64\n",
            "TOOLONG      45718 non-null int64\n",
            "TROUBUND     45718 non-null int64\n",
            "PDEN10       45718 non-null int64\n",
            "COUTYP2      45718 non-null int64\n",
            "MAIIN102     45718 non-null int64\n",
            "AIIND102     45718 non-null int64\n",
            "ANALWT_C     45718 non-null float64\n",
            "VESTR        45718 non-null int64\n",
            "VEREP        45718 non-null int64\n",
            "Criminal     45718 non-null int64\n",
            "dtypes: float64(1), int64(71)\n",
            "memory usage: 25.1 MB\n"
          ],
          "name": "stdout"
        }
      ]
    },
    {
      "cell_type": "code",
      "metadata": {
        "id": "1tn1VDbz2reI",
        "colab_type": "code",
        "colab": {}
      },
      "source": [
        "# if columns are more than it is difficult to check \n",
        "data_count = pd.DataFrame(data.count())"
      ],
      "execution_count": 0,
      "outputs": []
    },
    {
      "cell_type": "code",
      "metadata": {
        "id": "t2xe_C5H29v0",
        "colab_type": "code",
        "colab": {}
      },
      "source": [
        "data_count = data_count.T "
      ],
      "execution_count": 0,
      "outputs": []
    },
    {
      "cell_type": "code",
      "metadata": {
        "id": "1rCcEb383Zkm",
        "colab_type": "code",
        "colab": {
          "base_uri": "https://localhost:8080/",
          "height": 101
        },
        "outputId": "35fe1a84-ae16-49ff-9c4e-f5c370573a5e"
      },
      "source": [
        "data_count[data_count < 45718]"
      ],
      "execution_count": 25,
      "outputs": [
        {
          "output_type": "execute_result",
          "data": {
            "text/html": [
              "<div>\n",
              "<style scoped>\n",
              "    .dataframe tbody tr th:only-of-type {\n",
              "        vertical-align: middle;\n",
              "    }\n",
              "\n",
              "    .dataframe tbody tr th {\n",
              "        vertical-align: top;\n",
              "    }\n",
              "\n",
              "    .dataframe thead th {\n",
              "        text-align: right;\n",
              "    }\n",
              "</style>\n",
              "<table border=\"1\" class=\"dataframe\">\n",
              "  <thead>\n",
              "    <tr style=\"text-align: right;\">\n",
              "      <th></th>\n",
              "      <th>PERID</th>\n",
              "      <th>IFATHER</th>\n",
              "      <th>NRCH17_2</th>\n",
              "      <th>IRHHSIZ2</th>\n",
              "      <th>IIHHSIZ2</th>\n",
              "      <th>IRKI17_2</th>\n",
              "      <th>IIKI17_2</th>\n",
              "      <th>IRHH65_2</th>\n",
              "      <th>IIHH65_2</th>\n",
              "      <th>PRXRETRY</th>\n",
              "      <th>PRXYDATA</th>\n",
              "      <th>MEDICARE</th>\n",
              "      <th>CAIDCHIP</th>\n",
              "      <th>CHAMPUS</th>\n",
              "      <th>PRVHLTIN</th>\n",
              "      <th>GRPHLTIN</th>\n",
              "      <th>HLTINNOS</th>\n",
              "      <th>HLCNOTYR</th>\n",
              "      <th>HLCNOTMO</th>\n",
              "      <th>HLCLAST</th>\n",
              "      <th>HLLOSRSN</th>\n",
              "      <th>HLNVCOST</th>\n",
              "      <th>HLNVOFFR</th>\n",
              "      <th>HLNVREF</th>\n",
              "      <th>HLNVNEED</th>\n",
              "      <th>HLNVSOR</th>\n",
              "      <th>IRMCDCHP</th>\n",
              "      <th>IIMCDCHP</th>\n",
              "      <th>IRMEDICR</th>\n",
              "      <th>IIMEDICR</th>\n",
              "      <th>IRCHMPUS</th>\n",
              "      <th>IICHMPUS</th>\n",
              "      <th>IRPRVHLT</th>\n",
              "      <th>IIPRVHLT</th>\n",
              "      <th>IROTHHLT</th>\n",
              "      <th>IIOTHHLT</th>\n",
              "      <th>HLCALLFG</th>\n",
              "      <th>HLCALL99</th>\n",
              "      <th>ANYHLTI2</th>\n",
              "      <th>IRINSUR4</th>\n",
              "      <th>IIINSUR4</th>\n",
              "      <th>OTHINS</th>\n",
              "      <th>CELLNOTCL</th>\n",
              "      <th>CELLWRKNG</th>\n",
              "      <th>IRFAMSOC</th>\n",
              "      <th>IIFAMSOC</th>\n",
              "      <th>IRFAMSSI</th>\n",
              "      <th>IIFAMSSI</th>\n",
              "      <th>IRFSTAMP</th>\n",
              "      <th>IIFSTAMP</th>\n",
              "      <th>IRFAMPMT</th>\n",
              "      <th>IIFAMPMT</th>\n",
              "      <th>IRFAMSVC</th>\n",
              "      <th>IIFAMSVC</th>\n",
              "      <th>IRWELMOS</th>\n",
              "      <th>IIWELMOS</th>\n",
              "      <th>IRPINC3</th>\n",
              "      <th>IRFAMIN3</th>\n",
              "      <th>IIPINC3</th>\n",
              "      <th>IIFAMIN3</th>\n",
              "      <th>GOVTPROG</th>\n",
              "      <th>POVERTY3</th>\n",
              "      <th>TOOLONG</th>\n",
              "      <th>TROUBUND</th>\n",
              "      <th>PDEN10</th>\n",
              "      <th>COUTYP2</th>\n",
              "      <th>MAIIN102</th>\n",
              "      <th>AIIND102</th>\n",
              "      <th>ANALWT_C</th>\n",
              "      <th>VESTR</th>\n",
              "      <th>VEREP</th>\n",
              "      <th>Criminal</th>\n",
              "    </tr>\n",
              "  </thead>\n",
              "  <tbody>\n",
              "    <tr>\n",
              "      <th>0</th>\n",
              "      <td>NaN</td>\n",
              "      <td>NaN</td>\n",
              "      <td>NaN</td>\n",
              "      <td>NaN</td>\n",
              "      <td>NaN</td>\n",
              "      <td>NaN</td>\n",
              "      <td>NaN</td>\n",
              "      <td>NaN</td>\n",
              "      <td>NaN</td>\n",
              "      <td>NaN</td>\n",
              "      <td>NaN</td>\n",
              "      <td>NaN</td>\n",
              "      <td>NaN</td>\n",
              "      <td>NaN</td>\n",
              "      <td>NaN</td>\n",
              "      <td>NaN</td>\n",
              "      <td>NaN</td>\n",
              "      <td>NaN</td>\n",
              "      <td>NaN</td>\n",
              "      <td>NaN</td>\n",
              "      <td>NaN</td>\n",
              "      <td>NaN</td>\n",
              "      <td>NaN</td>\n",
              "      <td>NaN</td>\n",
              "      <td>NaN</td>\n",
              "      <td>NaN</td>\n",
              "      <td>NaN</td>\n",
              "      <td>NaN</td>\n",
              "      <td>NaN</td>\n",
              "      <td>NaN</td>\n",
              "      <td>NaN</td>\n",
              "      <td>NaN</td>\n",
              "      <td>NaN</td>\n",
              "      <td>NaN</td>\n",
              "      <td>NaN</td>\n",
              "      <td>NaN</td>\n",
              "      <td>NaN</td>\n",
              "      <td>NaN</td>\n",
              "      <td>NaN</td>\n",
              "      <td>NaN</td>\n",
              "      <td>NaN</td>\n",
              "      <td>NaN</td>\n",
              "      <td>NaN</td>\n",
              "      <td>NaN</td>\n",
              "      <td>NaN</td>\n",
              "      <td>NaN</td>\n",
              "      <td>NaN</td>\n",
              "      <td>NaN</td>\n",
              "      <td>NaN</td>\n",
              "      <td>NaN</td>\n",
              "      <td>NaN</td>\n",
              "      <td>NaN</td>\n",
              "      <td>NaN</td>\n",
              "      <td>NaN</td>\n",
              "      <td>NaN</td>\n",
              "      <td>NaN</td>\n",
              "      <td>NaN</td>\n",
              "      <td>NaN</td>\n",
              "      <td>NaN</td>\n",
              "      <td>NaN</td>\n",
              "      <td>NaN</td>\n",
              "      <td>NaN</td>\n",
              "      <td>NaN</td>\n",
              "      <td>NaN</td>\n",
              "      <td>NaN</td>\n",
              "      <td>NaN</td>\n",
              "      <td>NaN</td>\n",
              "      <td>NaN</td>\n",
              "      <td>NaN</td>\n",
              "      <td>NaN</td>\n",
              "      <td>NaN</td>\n",
              "      <td>NaN</td>\n",
              "    </tr>\n",
              "  </tbody>\n",
              "</table>\n",
              "</div>"
            ],
            "text/plain": [
              "   PERID  IFATHER  NRCH17_2  IRHHSIZ2  ...  ANALWT_C  VESTR  VEREP  Criminal\n",
              "0    NaN      NaN       NaN       NaN  ...       NaN    NaN    NaN       NaN\n",
              "\n",
              "[1 rows x 72 columns]"
            ]
          },
          "metadata": {
            "tags": []
          },
          "execution_count": 25
        }
      ]
    },
    {
      "cell_type": "code",
      "metadata": {
        "id": "Tz1k55HA4hFA",
        "colab_type": "code",
        "colab": {
          "base_uri": "https://localhost:8080/",
          "height": 226
        },
        "outputId": "64aba9cc-5051-4cbf-e518-e1aa1cf1ee90"
      },
      "source": [
        "data.head()"
      ],
      "execution_count": 27,
      "outputs": [
        {
          "output_type": "execute_result",
          "data": {
            "text/html": [
              "<div>\n",
              "<style scoped>\n",
              "    .dataframe tbody tr th:only-of-type {\n",
              "        vertical-align: middle;\n",
              "    }\n",
              "\n",
              "    .dataframe tbody tr th {\n",
              "        vertical-align: top;\n",
              "    }\n",
              "\n",
              "    .dataframe thead th {\n",
              "        text-align: right;\n",
              "    }\n",
              "</style>\n",
              "<table border=\"1\" class=\"dataframe\">\n",
              "  <thead>\n",
              "    <tr style=\"text-align: right;\">\n",
              "      <th></th>\n",
              "      <th>PERID</th>\n",
              "      <th>IFATHER</th>\n",
              "      <th>NRCH17_2</th>\n",
              "      <th>IRHHSIZ2</th>\n",
              "      <th>IIHHSIZ2</th>\n",
              "      <th>IRKI17_2</th>\n",
              "      <th>IIKI17_2</th>\n",
              "      <th>IRHH65_2</th>\n",
              "      <th>IIHH65_2</th>\n",
              "      <th>PRXRETRY</th>\n",
              "      <th>PRXYDATA</th>\n",
              "      <th>MEDICARE</th>\n",
              "      <th>CAIDCHIP</th>\n",
              "      <th>CHAMPUS</th>\n",
              "      <th>PRVHLTIN</th>\n",
              "      <th>GRPHLTIN</th>\n",
              "      <th>HLTINNOS</th>\n",
              "      <th>HLCNOTYR</th>\n",
              "      <th>HLCNOTMO</th>\n",
              "      <th>HLCLAST</th>\n",
              "      <th>HLLOSRSN</th>\n",
              "      <th>HLNVCOST</th>\n",
              "      <th>HLNVOFFR</th>\n",
              "      <th>HLNVREF</th>\n",
              "      <th>HLNVNEED</th>\n",
              "      <th>HLNVSOR</th>\n",
              "      <th>IRMCDCHP</th>\n",
              "      <th>IIMCDCHP</th>\n",
              "      <th>IRMEDICR</th>\n",
              "      <th>IIMEDICR</th>\n",
              "      <th>IRCHMPUS</th>\n",
              "      <th>IICHMPUS</th>\n",
              "      <th>IRPRVHLT</th>\n",
              "      <th>IIPRVHLT</th>\n",
              "      <th>IROTHHLT</th>\n",
              "      <th>IIOTHHLT</th>\n",
              "      <th>HLCALLFG</th>\n",
              "      <th>HLCALL99</th>\n",
              "      <th>ANYHLTI2</th>\n",
              "      <th>IRINSUR4</th>\n",
              "      <th>IIINSUR4</th>\n",
              "      <th>OTHINS</th>\n",
              "      <th>CELLNOTCL</th>\n",
              "      <th>CELLWRKNG</th>\n",
              "      <th>IRFAMSOC</th>\n",
              "      <th>IIFAMSOC</th>\n",
              "      <th>IRFAMSSI</th>\n",
              "      <th>IIFAMSSI</th>\n",
              "      <th>IRFSTAMP</th>\n",
              "      <th>IIFSTAMP</th>\n",
              "      <th>IRFAMPMT</th>\n",
              "      <th>IIFAMPMT</th>\n",
              "      <th>IRFAMSVC</th>\n",
              "      <th>IIFAMSVC</th>\n",
              "      <th>IRWELMOS</th>\n",
              "      <th>IIWELMOS</th>\n",
              "      <th>IRPINC3</th>\n",
              "      <th>IRFAMIN3</th>\n",
              "      <th>IIPINC3</th>\n",
              "      <th>IIFAMIN3</th>\n",
              "      <th>GOVTPROG</th>\n",
              "      <th>POVERTY3</th>\n",
              "      <th>TOOLONG</th>\n",
              "      <th>TROUBUND</th>\n",
              "      <th>PDEN10</th>\n",
              "      <th>COUTYP2</th>\n",
              "      <th>MAIIN102</th>\n",
              "      <th>AIIND102</th>\n",
              "      <th>ANALWT_C</th>\n",
              "      <th>VESTR</th>\n",
              "      <th>VEREP</th>\n",
              "      <th>Criminal</th>\n",
              "    </tr>\n",
              "  </thead>\n",
              "  <tbody>\n",
              "    <tr>\n",
              "      <th>0</th>\n",
              "      <td>25095143</td>\n",
              "      <td>4</td>\n",
              "      <td>2</td>\n",
              "      <td>4</td>\n",
              "      <td>1</td>\n",
              "      <td>3</td>\n",
              "      <td>1</td>\n",
              "      <td>1</td>\n",
              "      <td>1</td>\n",
              "      <td>99</td>\n",
              "      <td>99</td>\n",
              "      <td>2</td>\n",
              "      <td>1</td>\n",
              "      <td>2</td>\n",
              "      <td>2</td>\n",
              "      <td>99</td>\n",
              "      <td>99</td>\n",
              "      <td>2</td>\n",
              "      <td>99</td>\n",
              "      <td>99</td>\n",
              "      <td>99</td>\n",
              "      <td>99</td>\n",
              "      <td>99</td>\n",
              "      <td>99</td>\n",
              "      <td>99</td>\n",
              "      <td>99</td>\n",
              "      <td>1</td>\n",
              "      <td>1</td>\n",
              "      <td>2</td>\n",
              "      <td>1</td>\n",
              "      <td>2</td>\n",
              "      <td>1</td>\n",
              "      <td>2</td>\n",
              "      <td>1</td>\n",
              "      <td>99</td>\n",
              "      <td>9</td>\n",
              "      <td>98</td>\n",
              "      <td>98</td>\n",
              "      <td>1</td>\n",
              "      <td>1</td>\n",
              "      <td>1</td>\n",
              "      <td>2</td>\n",
              "      <td>1</td>\n",
              "      <td>1</td>\n",
              "      <td>2</td>\n",
              "      <td>1</td>\n",
              "      <td>2</td>\n",
              "      <td>1</td>\n",
              "      <td>1</td>\n",
              "      <td>1</td>\n",
              "      <td>2</td>\n",
              "      <td>1</td>\n",
              "      <td>2</td>\n",
              "      <td>1</td>\n",
              "      <td>99</td>\n",
              "      <td>9</td>\n",
              "      <td>1</td>\n",
              "      <td>4</td>\n",
              "      <td>1</td>\n",
              "      <td>1</td>\n",
              "      <td>1</td>\n",
              "      <td>2</td>\n",
              "      <td>1</td>\n",
              "      <td>2</td>\n",
              "      <td>1</td>\n",
              "      <td>1</td>\n",
              "      <td>2</td>\n",
              "      <td>2</td>\n",
              "      <td>3884.805998</td>\n",
              "      <td>40026</td>\n",
              "      <td>1</td>\n",
              "      <td>0</td>\n",
              "    </tr>\n",
              "    <tr>\n",
              "      <th>1</th>\n",
              "      <td>13005143</td>\n",
              "      <td>4</td>\n",
              "      <td>1</td>\n",
              "      <td>3</td>\n",
              "      <td>1</td>\n",
              "      <td>2</td>\n",
              "      <td>1</td>\n",
              "      <td>1</td>\n",
              "      <td>1</td>\n",
              "      <td>99</td>\n",
              "      <td>99</td>\n",
              "      <td>2</td>\n",
              "      <td>2</td>\n",
              "      <td>2</td>\n",
              "      <td>1</td>\n",
              "      <td>1</td>\n",
              "      <td>99</td>\n",
              "      <td>2</td>\n",
              "      <td>99</td>\n",
              "      <td>99</td>\n",
              "      <td>99</td>\n",
              "      <td>99</td>\n",
              "      <td>99</td>\n",
              "      <td>99</td>\n",
              "      <td>99</td>\n",
              "      <td>99</td>\n",
              "      <td>2</td>\n",
              "      <td>1</td>\n",
              "      <td>2</td>\n",
              "      <td>1</td>\n",
              "      <td>2</td>\n",
              "      <td>1</td>\n",
              "      <td>1</td>\n",
              "      <td>1</td>\n",
              "      <td>99</td>\n",
              "      <td>9</td>\n",
              "      <td>98</td>\n",
              "      <td>98</td>\n",
              "      <td>1</td>\n",
              "      <td>1</td>\n",
              "      <td>1</td>\n",
              "      <td>2</td>\n",
              "      <td>1</td>\n",
              "      <td>1</td>\n",
              "      <td>2</td>\n",
              "      <td>1</td>\n",
              "      <td>2</td>\n",
              "      <td>1</td>\n",
              "      <td>1</td>\n",
              "      <td>1</td>\n",
              "      <td>2</td>\n",
              "      <td>1</td>\n",
              "      <td>2</td>\n",
              "      <td>1</td>\n",
              "      <td>99</td>\n",
              "      <td>9</td>\n",
              "      <td>1</td>\n",
              "      <td>1</td>\n",
              "      <td>1</td>\n",
              "      <td>1</td>\n",
              "      <td>1</td>\n",
              "      <td>1</td>\n",
              "      <td>2</td>\n",
              "      <td>2</td>\n",
              "      <td>2</td>\n",
              "      <td>3</td>\n",
              "      <td>2</td>\n",
              "      <td>2</td>\n",
              "      <td>1627.108106</td>\n",
              "      <td>40015</td>\n",
              "      <td>2</td>\n",
              "      <td>1</td>\n",
              "    </tr>\n",
              "    <tr>\n",
              "      <th>2</th>\n",
              "      <td>67415143</td>\n",
              "      <td>4</td>\n",
              "      <td>1</td>\n",
              "      <td>2</td>\n",
              "      <td>1</td>\n",
              "      <td>2</td>\n",
              "      <td>1</td>\n",
              "      <td>1</td>\n",
              "      <td>1</td>\n",
              "      <td>99</td>\n",
              "      <td>99</td>\n",
              "      <td>2</td>\n",
              "      <td>1</td>\n",
              "      <td>2</td>\n",
              "      <td>2</td>\n",
              "      <td>99</td>\n",
              "      <td>99</td>\n",
              "      <td>2</td>\n",
              "      <td>99</td>\n",
              "      <td>99</td>\n",
              "      <td>99</td>\n",
              "      <td>99</td>\n",
              "      <td>99</td>\n",
              "      <td>99</td>\n",
              "      <td>99</td>\n",
              "      <td>99</td>\n",
              "      <td>1</td>\n",
              "      <td>1</td>\n",
              "      <td>2</td>\n",
              "      <td>1</td>\n",
              "      <td>2</td>\n",
              "      <td>1</td>\n",
              "      <td>2</td>\n",
              "      <td>1</td>\n",
              "      <td>99</td>\n",
              "      <td>9</td>\n",
              "      <td>98</td>\n",
              "      <td>98</td>\n",
              "      <td>1</td>\n",
              "      <td>1</td>\n",
              "      <td>1</td>\n",
              "      <td>2</td>\n",
              "      <td>2</td>\n",
              "      <td>1</td>\n",
              "      <td>1</td>\n",
              "      <td>1</td>\n",
              "      <td>2</td>\n",
              "      <td>1</td>\n",
              "      <td>1</td>\n",
              "      <td>1</td>\n",
              "      <td>2</td>\n",
              "      <td>1</td>\n",
              "      <td>2</td>\n",
              "      <td>1</td>\n",
              "      <td>99</td>\n",
              "      <td>9</td>\n",
              "      <td>2</td>\n",
              "      <td>2</td>\n",
              "      <td>1</td>\n",
              "      <td>1</td>\n",
              "      <td>1</td>\n",
              "      <td>1</td>\n",
              "      <td>2</td>\n",
              "      <td>2</td>\n",
              "      <td>2</td>\n",
              "      <td>3</td>\n",
              "      <td>2</td>\n",
              "      <td>2</td>\n",
              "      <td>4344.957980</td>\n",
              "      <td>40024</td>\n",
              "      <td>1</td>\n",
              "      <td>0</td>\n",
              "    </tr>\n",
              "    <tr>\n",
              "      <th>3</th>\n",
              "      <td>70925143</td>\n",
              "      <td>4</td>\n",
              "      <td>0</td>\n",
              "      <td>2</td>\n",
              "      <td>1</td>\n",
              "      <td>1</td>\n",
              "      <td>1</td>\n",
              "      <td>1</td>\n",
              "      <td>1</td>\n",
              "      <td>99</td>\n",
              "      <td>99</td>\n",
              "      <td>2</td>\n",
              "      <td>2</td>\n",
              "      <td>2</td>\n",
              "      <td>1</td>\n",
              "      <td>1</td>\n",
              "      <td>99</td>\n",
              "      <td>2</td>\n",
              "      <td>99</td>\n",
              "      <td>99</td>\n",
              "      <td>99</td>\n",
              "      <td>99</td>\n",
              "      <td>99</td>\n",
              "      <td>99</td>\n",
              "      <td>99</td>\n",
              "      <td>99</td>\n",
              "      <td>2</td>\n",
              "      <td>1</td>\n",
              "      <td>2</td>\n",
              "      <td>1</td>\n",
              "      <td>2</td>\n",
              "      <td>1</td>\n",
              "      <td>1</td>\n",
              "      <td>1</td>\n",
              "      <td>99</td>\n",
              "      <td>9</td>\n",
              "      <td>98</td>\n",
              "      <td>98</td>\n",
              "      <td>1</td>\n",
              "      <td>1</td>\n",
              "      <td>1</td>\n",
              "      <td>2</td>\n",
              "      <td>1</td>\n",
              "      <td>1</td>\n",
              "      <td>2</td>\n",
              "      <td>1</td>\n",
              "      <td>2</td>\n",
              "      <td>1</td>\n",
              "      <td>2</td>\n",
              "      <td>1</td>\n",
              "      <td>2</td>\n",
              "      <td>1</td>\n",
              "      <td>2</td>\n",
              "      <td>1</td>\n",
              "      <td>99</td>\n",
              "      <td>9</td>\n",
              "      <td>7</td>\n",
              "      <td>7</td>\n",
              "      <td>1</td>\n",
              "      <td>1</td>\n",
              "      <td>2</td>\n",
              "      <td>3</td>\n",
              "      <td>2</td>\n",
              "      <td>2</td>\n",
              "      <td>1</td>\n",
              "      <td>1</td>\n",
              "      <td>2</td>\n",
              "      <td>2</td>\n",
              "      <td>792.521931</td>\n",
              "      <td>40027</td>\n",
              "      <td>1</td>\n",
              "      <td>0</td>\n",
              "    </tr>\n",
              "    <tr>\n",
              "      <th>4</th>\n",
              "      <td>75235143</td>\n",
              "      <td>1</td>\n",
              "      <td>0</td>\n",
              "      <td>6</td>\n",
              "      <td>1</td>\n",
              "      <td>4</td>\n",
              "      <td>1</td>\n",
              "      <td>1</td>\n",
              "      <td>1</td>\n",
              "      <td>99</td>\n",
              "      <td>1</td>\n",
              "      <td>2</td>\n",
              "      <td>1</td>\n",
              "      <td>2</td>\n",
              "      <td>2</td>\n",
              "      <td>99</td>\n",
              "      <td>99</td>\n",
              "      <td>2</td>\n",
              "      <td>99</td>\n",
              "      <td>99</td>\n",
              "      <td>99</td>\n",
              "      <td>99</td>\n",
              "      <td>99</td>\n",
              "      <td>99</td>\n",
              "      <td>99</td>\n",
              "      <td>99</td>\n",
              "      <td>1</td>\n",
              "      <td>1</td>\n",
              "      <td>2</td>\n",
              "      <td>1</td>\n",
              "      <td>2</td>\n",
              "      <td>1</td>\n",
              "      <td>2</td>\n",
              "      <td>1</td>\n",
              "      <td>99</td>\n",
              "      <td>9</td>\n",
              "      <td>98</td>\n",
              "      <td>98</td>\n",
              "      <td>1</td>\n",
              "      <td>1</td>\n",
              "      <td>1</td>\n",
              "      <td>2</td>\n",
              "      <td>2</td>\n",
              "      <td>1</td>\n",
              "      <td>2</td>\n",
              "      <td>1</td>\n",
              "      <td>2</td>\n",
              "      <td>1</td>\n",
              "      <td>1</td>\n",
              "      <td>1</td>\n",
              "      <td>2</td>\n",
              "      <td>1</td>\n",
              "      <td>1</td>\n",
              "      <td>1</td>\n",
              "      <td>1</td>\n",
              "      <td>1</td>\n",
              "      <td>1</td>\n",
              "      <td>2</td>\n",
              "      <td>1</td>\n",
              "      <td>1</td>\n",
              "      <td>1</td>\n",
              "      <td>1</td>\n",
              "      <td>2</td>\n",
              "      <td>2</td>\n",
              "      <td>2</td>\n",
              "      <td>2</td>\n",
              "      <td>2</td>\n",
              "      <td>2</td>\n",
              "      <td>1518.118526</td>\n",
              "      <td>40001</td>\n",
              "      <td>2</td>\n",
              "      <td>0</td>\n",
              "    </tr>\n",
              "  </tbody>\n",
              "</table>\n",
              "</div>"
            ],
            "text/plain": [
              "      PERID  IFATHER  NRCH17_2  IRHHSIZ2  ...     ANALWT_C  VESTR  VEREP  Criminal\n",
              "0  25095143        4         2         4  ...  3884.805998  40026      1         0\n",
              "1  13005143        4         1         3  ...  1627.108106  40015      2         1\n",
              "2  67415143        4         1         2  ...  4344.957980  40024      1         0\n",
              "3  70925143        4         0         2  ...   792.521931  40027      1         0\n",
              "4  75235143        1         0         6  ...  1518.118526  40001      2         0\n",
              "\n",
              "[5 rows x 72 columns]"
            ]
          },
          "metadata": {
            "tags": []
          },
          "execution_count": 27
        }
      ]
    },
    {
      "cell_type": "code",
      "metadata": {
        "id": "DAbKTCfy5J8m",
        "colab_type": "code",
        "colab": {}
      },
      "source": [
        "# data looks good lets start modeling"
      ],
      "execution_count": 0,
      "outputs": []
    },
    {
      "cell_type": "markdown",
      "metadata": {
        "id": "5Dghna5I5Yrf",
        "colab_type": "text"
      },
      "source": [
        "## Step 3: Modeling"
      ]
    },
    {
      "cell_type": "code",
      "metadata": {
        "id": "dhHkHhyY5XUj",
        "colab_type": "code",
        "colab": {}
      },
      "source": [
        "X = data.drop('Criminal',axis=1)\n",
        "y = data['Criminal']"
      ],
      "execution_count": 0,
      "outputs": []
    },
    {
      "cell_type": "code",
      "metadata": {
        "id": "pToztzmGClwM",
        "colab_type": "code",
        "colab": {}
      },
      "source": [
        "from sklearn.model_selection import train_test_split"
      ],
      "execution_count": 0,
      "outputs": []
    },
    {
      "cell_type": "code",
      "metadata": {
        "id": "1XSDI3mfCrbh",
        "colab_type": "code",
        "colab": {}
      },
      "source": [
        "X_train,X_test,y_train,y_test = train_test_split(X,y,random_state = 1,test_size = .30)"
      ],
      "execution_count": 0,
      "outputs": []
    },
    {
      "cell_type": "code",
      "metadata": {
        "id": "UOw86klLC49U",
        "colab_type": "code",
        "colab": {}
      },
      "source": [
        "from sklearn.ensemble import RandomForestClassifier"
      ],
      "execution_count": 0,
      "outputs": []
    },
    {
      "cell_type": "code",
      "metadata": {
        "id": "-z1Nhpj9DyxV",
        "colab_type": "code",
        "colab": {}
      },
      "source": [
        "rfc = RandomForestClassifier(random_state=1)"
      ],
      "execution_count": 0,
      "outputs": []
    },
    {
      "cell_type": "code",
      "metadata": {
        "id": "xkRhUzmjD7iT",
        "colab_type": "code",
        "colab": {
          "base_uri": "https://localhost:8080/",
          "height": 165
        },
        "outputId": "8bcddb59-0429-4528-d847-f240681537b7"
      },
      "source": [
        "rfc.fit(X_train,y_train)"
      ],
      "execution_count": 34,
      "outputs": [
        {
          "output_type": "execute_result",
          "data": {
            "text/plain": [
              "RandomForestClassifier(bootstrap=True, ccp_alpha=0.0, class_weight=None,\n",
              "                       criterion='gini', max_depth=None, max_features='auto',\n",
              "                       max_leaf_nodes=None, max_samples=None,\n",
              "                       min_impurity_decrease=0.0, min_impurity_split=None,\n",
              "                       min_samples_leaf=1, min_samples_split=2,\n",
              "                       min_weight_fraction_leaf=0.0, n_estimators=100,\n",
              "                       n_jobs=None, oob_score=False, random_state=1, verbose=0,\n",
              "                       warm_start=False)"
            ]
          },
          "metadata": {
            "tags": []
          },
          "execution_count": 34
        }
      ]
    },
    {
      "cell_type": "code",
      "metadata": {
        "id": "BEgJDRuHEafV",
        "colab_type": "code",
        "colab": {}
      },
      "source": [
        "y_pred = rfc.predict(X_test)"
      ],
      "execution_count": 0,
      "outputs": []
    },
    {
      "cell_type": "markdown",
      "metadata": {
        "id": "J5FSPSXGEFLl",
        "colab_type": "text"
      },
      "source": [
        "## Step 4: Model Evaluation"
      ]
    },
    {
      "cell_type": "code",
      "metadata": {
        "id": "ZwqX3aRSD_8L",
        "colab_type": "code",
        "colab": {}
      },
      "source": [
        "# 1 simple accury\n",
        "\n",
        "from sklearn.metrics import accuracy_score"
      ],
      "execution_count": 0,
      "outputs": []
    },
    {
      "cell_type": "code",
      "metadata": {
        "id": "7BaXIo92ESpl",
        "colab_type": "code",
        "colab": {
          "base_uri": "https://localhost:8080/",
          "height": 35
        },
        "outputId": "7c6c4c98-269c-4eb7-a687-2519b8f54d7f"
      },
      "source": [
        "print(accuracy_score(y_test,y_pred))"
      ],
      "execution_count": 37,
      "outputs": [
        {
          "output_type": "stream",
          "text": [
            "0.9496208807232429\n"
          ],
          "name": "stdout"
        }
      ]
    },
    {
      "cell_type": "code",
      "metadata": {
        "id": "ZAa5qeJUElEc",
        "colab_type": "code",
        "colab": {}
      },
      "source": [
        "from sklearn.metrics import confusion_matrix"
      ],
      "execution_count": 0,
      "outputs": []
    },
    {
      "cell_type": "code",
      "metadata": {
        "id": "Q-xQwE31Exq3",
        "colab_type": "code",
        "colab": {
          "base_uri": "https://localhost:8080/",
          "height": 54
        },
        "outputId": "d66138e1-9f10-4bdf-cfa6-5046b5175cf0"
      },
      "source": [
        "confusion_matrix(y_test,y_pred)"
      ],
      "execution_count": 40,
      "outputs": [
        {
          "output_type": "execute_result",
          "data": {
            "text/plain": [
              "array([[12501,   247],\n",
              "       [  444,   524]])"
            ]
          },
          "metadata": {
            "tags": []
          },
          "execution_count": 40
        }
      ]
    },
    {
      "cell_type": "code",
      "metadata": {
        "id": "PvJFsQzBE3aZ",
        "colab_type": "code",
        "colab": {}
      },
      "source": [
        "# precision\n",
        "\n",
        "from sklearn.metrics import precision_score\n"
      ],
      "execution_count": 0,
      "outputs": []
    },
    {
      "cell_type": "code",
      "metadata": {
        "id": "CBTzVU2dJdE_",
        "colab_type": "code",
        "colab": {
          "base_uri": "https://localhost:8080/",
          "height": 35
        },
        "outputId": "a3c1cc10-e88d-44c0-cfe0-f91c487c1c54"
      },
      "source": [
        "precision_score(y_test,y_pred)"
      ],
      "execution_count": 42,
      "outputs": [
        {
          "output_type": "execute_result",
          "data": {
            "text/plain": [
              "0.6796368352788587"
            ]
          },
          "metadata": {
            "tags": []
          },
          "execution_count": 42
        }
      ]
    },
    {
      "cell_type": "code",
      "metadata": {
        "id": "egSZMaDVJlsT",
        "colab_type": "code",
        "colab": {
          "base_uri": "https://localhost:8080/",
          "height": 35
        },
        "outputId": "b91d8261-8994-4cd9-9ef2-0e0ae281a269"
      },
      "source": [
        "from sklearn.metrics import recall_score\n",
        "recall_score(y_test,y_pred)\n",
        "\n"
      ],
      "execution_count": 43,
      "outputs": [
        {
          "output_type": "execute_result",
          "data": {
            "text/plain": [
              "0.5413223140495868"
            ]
          },
          "metadata": {
            "tags": []
          },
          "execution_count": 43
        }
      ]
    },
    {
      "cell_type": "code",
      "metadata": {
        "id": "ICpgiUHUKHNC",
        "colab_type": "code",
        "colab": {
          "base_uri": "https://localhost:8080/",
          "height": 35
        },
        "outputId": "55697c0c-80d3-40fa-a151-8f75ecd2febf"
      },
      "source": [
        "from sklearn.metrics import f1_score\n",
        "f1_score(y_test,y_pred)"
      ],
      "execution_count": 44,
      "outputs": [
        {
          "output_type": "execute_result",
          "data": {
            "text/plain": [
              "0.6026451983898793"
            ]
          },
          "metadata": {
            "tags": []
          },
          "execution_count": 44
        }
      ]
    },
    {
      "cell_type": "code",
      "metadata": {
        "id": "SdenUhYYKPMu",
        "colab_type": "code",
        "colab": {
          "base_uri": "https://localhost:8080/",
          "height": 295
        },
        "outputId": "a34b51b4-3480-4be9-e70f-b17ed6ebcce4"
      },
      "source": [
        "from sklearn import metrics\n",
        "probs = rfc.predict_proba(X_test)\n",
        "preds = probs[:,1]\n",
        "fpr, tpr, threshold = metrics.roc_curve(y_test, y_pred)\n",
        "roc_auc = metrics.auc(fpr, tpr)\n",
        "\n",
        "import matplotlib.pyplot as plt\n",
        "plt.title('Receiver Operating Characteristic')\n",
        "plt.plot(fpr, tpr, 'b', label = 'AUC = %0.2f' % roc_auc)\n",
        "plt.legend(loc = 'lower right')\n",
        "plt.plot([0, 1], [0, 1],'r--')\n",
        "plt.xlim([0, 1])\n",
        "plt.ylim([0, 1])\n",
        "plt.ylabel('True Positive Rate')\n",
        "plt.xlabel('False Positive Rate')\n",
        "plt.show()"
      ],
      "execution_count": 46,
      "outputs": [
        {
          "output_type": "display_data",
          "data": {
            "image/png": "[encoded data removed]",
            "text/plain": [
              "<Figure size 432x288 with 1 Axes>"
            ]
          },
          "metadata": {
            "tags": []
          }
        }
      ]
    },
    {
      "cell_type": "code",
      "metadata": {
        "id": "_FaK11AxKyFa",
        "colab_type": "code",
        "colab": {}
      },
      "source": [
        ""
      ],
      "execution_count": 0,
      "outputs": []
    }
  ]
}