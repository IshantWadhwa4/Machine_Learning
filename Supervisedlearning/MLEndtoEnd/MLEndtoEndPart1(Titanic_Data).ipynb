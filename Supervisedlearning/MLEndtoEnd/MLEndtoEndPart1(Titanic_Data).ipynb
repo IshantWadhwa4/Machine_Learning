{
  "nbformat": 4,
  "nbformat_minor": 0,
  "metadata": {
    "colab": {
      "name": "MLEndtoEndPart1(Titanic_Data).ipynb",
      "provenance": [],
      "authorship_tag": "ABX9TyPSzpJMw9Yvw9vcXXDNcxO7",
      "include_colab_link": true
    },
    "kernelspec": {
      "name": "python3",
      "display_name": "Python 3"
    }
  },
  "cells": [
    {
      "cell_type": "markdown",
      "metadata": {
        "id": "view-in-github",
        "colab_type": "text"
      },
      "source": [
        "<a href=\"https://colab.research.google.com/github/IshantWadhwa4/Machine_Learning/blob/master/Supervisedlearning/MLEndtoEnd/MLEndtoEndPart1(Titanic_Data).ipynb\" target=\"_parent\"><img src=\"https://colab.research.google.com/assets/colab-badge.svg\" alt=\"Open In Colab\"/></a>"
      ]
    },
    {
      "cell_type": "markdown",
      "metadata": {
        "id": "4oN6oarmHtKv",
        "colab_type": "text"
      },
      "source": [
        "# ML End to End "
      ]
    },
    {
      "cell_type": "markdown",
      "metadata": {
        "id": "_Ccrla9KIJRR",
        "colab_type": "text"
      },
      "source": [
        "## Step 1: Get Data"
      ]
    },
    {
      "cell_type": "code",
      "metadata": {
        "id": "6pJjTLLyHwSx",
        "colab_type": "code",
        "colab": {}
      },
      "source": [
        "import pandas as pd"
      ],
      "execution_count": 0,
      "outputs": []
    },
    {
      "cell_type": "code",
      "metadata": {
        "id": "Z86FBiBvHyuB",
        "colab_type": "code",
        "colab": {}
      },
      "source": [
        "titanic_data = pd.read_csv('https://raw.githubusercontent.com/insaid2018/Term-1/master/Data/Casestudy/titanic_train.csv')"
      ],
      "execution_count": 0,
      "outputs": []
    },
    {
      "cell_type": "code",
      "metadata": {
        "id": "8mEQYBy_IAJ7",
        "colab_type": "code",
        "colab": {
          "base_uri": "https://localhost:8080/",
          "height": 331
        },
        "outputId": "9cc20cbb-72cb-4c1e-cd2b-00f062ebb01e"
      },
      "source": [
        "titanic_data.info()"
      ],
      "execution_count": 3,
      "outputs": [
        {
          "output_type": "stream",
          "text": [
            "<class 'pandas.core.frame.DataFrame'>\n",
            "RangeIndex: 891 entries, 0 to 890\n",
            "Data columns (total 12 columns):\n",
            "PassengerId    891 non-null int64\n",
            "Survived       891 non-null int64\n",
            "Pclass         891 non-null int64\n",
            "Name           891 non-null object\n",
            "Sex            891 non-null object\n",
            "Age            714 non-null float64\n",
            "SibSp          891 non-null int64\n",
            "Parch          891 non-null int64\n",
            "Ticket         891 non-null object\n",
            "Fare           891 non-null float64\n",
            "Cabin          204 non-null object\n",
            "Embarked       889 non-null object\n",
            "dtypes: float64(2), int64(5), object(5)\n",
            "memory usage: 83.7+ KB\n"
          ],
          "name": "stdout"
        }
      ]
    },
    {
      "cell_type": "markdown",
      "metadata": {
        "id": "TYOe1jFRIMdM",
        "colab_type": "text"
      },
      "source": [
        "## Step 2: Clean data"
      ]
    },
    {
      "cell_type": "code",
      "metadata": {
        "id": "vFSPQ9wsIDRU",
        "colab_type": "code",
        "colab": {}
      },
      "source": [
        "titanic_data.Embarked.fillna(titanic_data['Embarked'].mode()[0],inplace=True)\n",
        "titanic_data.Age.fillna(titanic_data.Age.median(),inplace=True)\n",
        "titanic_data.drop('Cabin',axis=1,inplace=True)\n",
        "titanic_data['FamilySize'] = titanic_data['SibSp'] + titanic_data['Parch']+1\n",
        "titanic_data['GenderClass'] = titanic_data.apply(lambda x: 'child' if x['Age'] < 15 else x['Sex'],axis=1)\n",
        "titanic_data = pd.get_dummies(titanic_data, columns=['GenderClass','Embarked'], drop_first=True)\n",
        "titanic = titanic_data.drop(['Name','Ticket','Sex','SibSp','Parch','PassengerId'], axis = 1)"
      ],
      "execution_count": 0,
      "outputs": []
    },
    {
      "cell_type": "code",
      "metadata": {
        "id": "EnBlujSqIiSg",
        "colab_type": "code",
        "colab": {
          "base_uri": "https://localhost:8080/",
          "height": 276
        },
        "outputId": "0b4cb908-4ad6-431b-9271-84dd3309106d"
      },
      "source": [
        "titanic.info()"
      ],
      "execution_count": 6,
      "outputs": [
        {
          "output_type": "stream",
          "text": [
            "<class 'pandas.core.frame.DataFrame'>\n",
            "RangeIndex: 891 entries, 0 to 890\n",
            "Data columns (total 9 columns):\n",
            "Survived              891 non-null int64\n",
            "Pclass                891 non-null int64\n",
            "Age                   891 non-null float64\n",
            "Fare                  891 non-null float64\n",
            "FamilySize            891 non-null int64\n",
            "GenderClass_female    891 non-null uint8\n",
            "GenderClass_male      891 non-null uint8\n",
            "Embarked_Q            891 non-null uint8\n",
            "Embarked_S            891 non-null uint8\n",
            "dtypes: float64(2), int64(3), uint8(4)\n",
            "memory usage: 38.4 KB\n"
          ],
          "name": "stdout"
        }
      ]
    },
    {
      "cell_type": "markdown",
      "metadata": {
        "id": "RXmeyk8PJN_d",
        "colab_type": "text"
      },
      "source": [
        "## Step 3: Apply Models"
      ]
    },
    {
      "cell_type": "code",
      "metadata": {
        "id": "WNJELhAGIlNz",
        "colab_type": "code",
        "colab": {}
      },
      "source": [
        "## convert data to train and text\n",
        "X = titanic.drop('Survived',axis=1)\n",
        "y = titanic['Survived']"
      ],
      "execution_count": 0,
      "outputs": []
    },
    {
      "cell_type": "code",
      "metadata": {
        "id": "dwdYgLC_L1xE",
        "colab_type": "code",
        "colab": {}
      },
      "source": [
        "from sklearn.model_selection import train_test_split"
      ],
      "execution_count": 0,
      "outputs": []
    },
    {
      "cell_type": "code",
      "metadata": {
        "id": "bwkJz1CJL9PS",
        "colab_type": "code",
        "colab": {}
      },
      "source": [
        "X_train,X_test,y_train,y_test = train_test_split(X,y,random_state=1,test_size=0.30)"
      ],
      "execution_count": 0,
      "outputs": []
    },
    {
      "cell_type": "code",
      "metadata": {
        "id": "gRTjoR7bMKqx",
        "colab_type": "code",
        "colab": {}
      },
      "source": [
        "# import all models\n",
        "from sklearn.linear_model import LogisticRegression\n",
        "from sklearn.tree import DecisionTreeClassifier\n",
        "from sklearn.ensemble import RandomForestClassifier\n",
        "from sklearn import model_selection\n",
        "\n",
        "\n",
        "\n",
        "MLA = [\n",
        "       \n",
        "       LogisticRegression(random_state = 1),\n",
        "       DecisionTreeClassifier(random_state = 1),\n",
        "       RandomForestClassifier(random_state = 1)\n",
        "       \n",
        "       ]\n",
        "\n",
        "#note: this is an alternative to train_test_split\n",
        "cv_split = model_selection.ShuffleSplit(n_splits = 5, test_size = .3, train_size = .7, random_state = 0 ) # run model 10x with 60/30 split intentionally leaving out 10%\n",
        "\n",
        "#create table to compare MLA metrics\n",
        "MLA_columns = ['MLA Name', 'MLA Parameters','MLA Train Accuracy Mean', 'MLA Test Accuracy Mean', 'MLA Test Accuracy 3*STD' ,'MLA Time', 'TrainTestDifference']\n",
        "MLA_compare = pd.DataFrame(columns = MLA_columns)\n",
        "\n",
        "MLA_Predict = titanic['Survived']\n",
        "\n",
        "\n"
      ],
      "execution_count": 0,
      "outputs": []
    },
    {
      "cell_type": "code",
      "metadata": {
        "id": "fDCxyL9sPlRK",
        "colab_type": "code",
        "colab": {}
      },
      "source": [
        "row_index = 0\n",
        "\n",
        "for alg in MLA:\n",
        "\n",
        "  #set name and parameters\n",
        "  MLA_name = alg.__class__.__name__\n",
        "  MLA_compare.loc[row_index, 'MLA Name'] = MLA_name\n",
        "  MLA_compare.loc[row_index, 'MLA Parameters'] = str(alg.get_params())\n",
        "\n",
        "\n",
        "  cv_results = model_selection.cross_validate(alg, X, y, n_jobs= -1,cv = cv_split,scoring='precision',return_train_score=True)\n",
        "  \n",
        "  \n",
        "  # cv_result is a doctionary -> All the results of diff models are saved \n",
        "  MLA_compare.loc[row_index, 'MLA Time'] = cv_results['fit_time'].mean()\n",
        "  MLA_compare.loc[row_index, 'MLA Train Accuracy Mean'] = cv_results['train_score'].mean()\n",
        "  MLA_compare.loc[row_index, 'MLA Test Accuracy Mean'] = cv_results['test_score'].mean()   \n",
        "  #if this is a non-bias random sample, then +/-3 standard deviations (std) from the mean, should statistically capture 99.7% of the subsets\n",
        "  MLA_compare.loc[row_index, 'MLA Test Accuracy 3*STD'] = cv_results['test_score'].std()*3   #let's know the worst that can happen!\n",
        "  MLA_compare.loc[row_index, 'TrainTestDifference'] = cv_results['train_score'].mean() - cv_results['test_score'].mean()\n",
        "\n",
        "  row_index += 1 "
      ],
      "execution_count": 0,
      "outputs": []
    },
    {
      "cell_type": "code",
      "metadata": {
        "id": "yM_xFQcTSEUe",
        "colab_type": "code",
        "colab": {}
      },
      "source": [
        "MLA_compare.sort_values(by = ['TrainTestDifference'], ascending = False, inplace = True)"
      ],
      "execution_count": 0,
      "outputs": []
    },
    {
      "cell_type": "code",
      "metadata": {
        "id": "M_tLGDhWSMWl",
        "colab_type": "code",
        "colab": {
          "base_uri": "https://localhost:8080/",
          "height": 144
        },
        "outputId": "193b2247-81c5-4721-ff47-8258db9716a6"
      },
      "source": [
        "MLA_compare"
      ],
      "execution_count": 18,
      "outputs": [
        {
          "output_type": "execute_result",
          "data": {
            "text/html": [
              "<div>\n",
              "<style scoped>\n",
              "    .dataframe tbody tr th:only-of-type {\n",
              "        vertical-align: middle;\n",
              "    }\n",
              "\n",
              "    .dataframe tbody tr th {\n",
              "        vertical-align: top;\n",
              "    }\n",
              "\n",
              "    .dataframe thead th {\n",
              "        text-align: right;\n",
              "    }\n",
              "</style>\n",
              "<table border=\"1\" class=\"dataframe\">\n",
              "  <thead>\n",
              "    <tr style=\"text-align: right;\">\n",
              "      <th></th>\n",
              "      <th>MLA Name</th>\n",
              "      <th>MLA Parameters</th>\n",
              "      <th>MLA Train Accuracy Mean</th>\n",
              "      <th>MLA Test Accuracy Mean</th>\n",
              "      <th>MLA Test Accuracy 3*STD</th>\n",
              "      <th>MLA Time</th>\n",
              "      <th>TrainTestDifference</th>\n",
              "    </tr>\n",
              "  </thead>\n",
              "  <tbody>\n",
              "    <tr>\n",
              "      <th>1</th>\n",
              "      <td>DecisionTreeClassifier</td>\n",
              "      <td>{'ccp_alpha': 0.0, 'class_weight': None, 'crit...</td>\n",
              "      <td>0.994817</td>\n",
              "      <td>0.733767</td>\n",
              "      <td>0.0932959</td>\n",
              "      <td>0.00626144</td>\n",
              "      <td>0.26105</td>\n",
              "    </tr>\n",
              "    <tr>\n",
              "      <th>2</th>\n",
              "      <td>RandomForestClassifier</td>\n",
              "      <td>{'bootstrap': True, 'ccp_alpha': 0.0, 'class_w...</td>\n",
              "      <td>0.989699</td>\n",
              "      <td>0.783077</td>\n",
              "      <td>0.101973</td>\n",
              "      <td>0.259905</td>\n",
              "      <td>0.206622</td>\n",
              "    </tr>\n",
              "    <tr>\n",
              "      <th>0</th>\n",
              "      <td>LogisticRegression</td>\n",
              "      <td>{'C': 1.0, 'class_weight': None, 'dual': False...</td>\n",
              "      <td>0.793873</td>\n",
              "      <td>0.788714</td>\n",
              "      <td>0.0857072</td>\n",
              "      <td>0.049596</td>\n",
              "      <td>0.00515947</td>\n",
              "    </tr>\n",
              "  </tbody>\n",
              "</table>\n",
              "</div>"
            ],
            "text/plain": [
              "                 MLA Name  ... TrainTestDifference\n",
              "1  DecisionTreeClassifier  ...             0.26105\n",
              "2  RandomForestClassifier  ...            0.206622\n",
              "0      LogisticRegression  ...          0.00515947\n",
              "\n",
              "[3 rows x 7 columns]"
            ]
          },
          "metadata": {
            "tags": []
          },
          "execution_count": 18
        }
      ]
    },
    {
      "cell_type": "code",
      "metadata": {
        "id": "QNJUCvakSNyq",
        "colab_type": "code",
        "colab": {}
      },
      "source": [
        ""
      ],
      "execution_count": 0,
      "outputs": []
    }
  ]
}